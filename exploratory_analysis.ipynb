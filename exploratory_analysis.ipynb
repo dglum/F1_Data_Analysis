{
 "cells": [
  {
   "cell_type": "markdown",
   "metadata": {},
   "source": [
    "## Formula One Exploratory Data Analysis"
   ]
  },
  {
   "cell_type": "markdown",
   "metadata": {},
   "source": [
    "First, let's import all the libraries we will use to analyze and visualize the source data."
   ]
  },
  {
   "cell_type": "code",
   "execution_count": 759,
   "metadata": {},
   "outputs": [],
   "source": [
    "import pandas as pd\n",
    "import seaborn as sns\n",
    "import matplotlib.pyplot as plt"
   ]
  },
  {
   "cell_type": "markdown",
   "metadata": {},
   "source": [
    "Now, let's read all the CSV files from the src folder into pandas dataframes so we can start exploring the data."
   ]
  },
  {
   "cell_type": "code",
   "execution_count": 760,
   "metadata": {},
   "outputs": [],
   "source": [
    "constructors = pd.read_csv('src/constructors.csv')\n",
    "constructor_results = pd.read_csv('src/constructor_results.csv')\n",
    "constructor_standings = pd.read_csv('src/constructor_results.csv') \n",
    "\n",
    "drivers = pd.read_csv('src/drivers.csv')\n",
    "driver_standings = pd.read_csv('src/driver_standings.csv')\n",
    "\n",
    "races = pd.read_csv('src/races.csv')\n",
    "circuits = pd.read_csv('src/circuits.csv')\n",
    "seasons = pd.read_csv('src/seasons.csv')\n",
    "\n",
    "results = pd.read_csv('src/results.csv')\n",
    "sprint_results = pd.read_csv('src/sprint_results.csv')\n",
    "\n",
    "lap_times = pd.read_csv('src/lap_times.csv')\n",
    "qualifying = pd.read_csv('src/qualifying.csv')\n",
    "pit_stops = pd.read_csv('src/pit_stops.csv')\n",
    "\n",
    "status = pd.read_csv('src/status.csv')"
   ]
  },
  {
   "cell_type": "markdown",
   "metadata": {},
   "source": [
    "Now that all our CSVs are stored in pandas dataframes, the next step is to check how clean the data is. It's critical to not skip this step because it can easily cause problems and unpredictable behavior down the line if the data is not clean.\n",
    "\n",
    "Let's focus on the drivers and driver_standings data first."
   ]
  },
  {
   "cell_type": "code",
   "execution_count": 761,
   "metadata": {},
   "outputs": [
    {
     "name": "stdout",
     "output_type": "stream",
     "text": [
      "<class 'pandas.core.frame.DataFrame'>\n",
      "RangeIndex: 859 entries, 0 to 858\n",
      "Data columns (total 9 columns):\n",
      " #   Column       Non-Null Count  Dtype \n",
      "---  ------       --------------  ----- \n",
      " 0   driverId     859 non-null    int64 \n",
      " 1   driverRef    859 non-null    object\n",
      " 2   number       859 non-null    object\n",
      " 3   code         859 non-null    object\n",
      " 4   forename     859 non-null    object\n",
      " 5   surname      859 non-null    object\n",
      " 6   dob          859 non-null    object\n",
      " 7   nationality  859 non-null    object\n",
      " 8   url          859 non-null    object\n",
      "dtypes: int64(1), object(8)\n",
      "memory usage: 60.5+ KB\n"
     ]
    },
    {
     "data": {
      "text/html": [
       "<div>\n",
       "<style scoped>\n",
       "    .dataframe tbody tr th:only-of-type {\n",
       "        vertical-align: middle;\n",
       "    }\n",
       "\n",
       "    .dataframe tbody tr th {\n",
       "        vertical-align: top;\n",
       "    }\n",
       "\n",
       "    .dataframe thead th {\n",
       "        text-align: right;\n",
       "    }\n",
       "</style>\n",
       "<table border=\"1\" class=\"dataframe\">\n",
       "  <thead>\n",
       "    <tr style=\"text-align: right;\">\n",
       "      <th></th>\n",
       "      <th>driverId</th>\n",
       "      <th>driverRef</th>\n",
       "      <th>number</th>\n",
       "      <th>code</th>\n",
       "      <th>forename</th>\n",
       "      <th>surname</th>\n",
       "      <th>dob</th>\n",
       "      <th>nationality</th>\n",
       "      <th>url</th>\n",
       "    </tr>\n",
       "  </thead>\n",
       "  <tbody>\n",
       "    <tr>\n",
       "      <th>0</th>\n",
       "      <td>1</td>\n",
       "      <td>hamilton</td>\n",
       "      <td>44</td>\n",
       "      <td>HAM</td>\n",
       "      <td>Lewis</td>\n",
       "      <td>Hamilton</td>\n",
       "      <td>1985-01-07</td>\n",
       "      <td>British</td>\n",
       "      <td>http://en.wikipedia.org/wiki/Lewis_Hamilton</td>\n",
       "    </tr>\n",
       "    <tr>\n",
       "      <th>1</th>\n",
       "      <td>2</td>\n",
       "      <td>heidfeld</td>\n",
       "      <td>\\N</td>\n",
       "      <td>HEI</td>\n",
       "      <td>Nick</td>\n",
       "      <td>Heidfeld</td>\n",
       "      <td>1977-05-10</td>\n",
       "      <td>German</td>\n",
       "      <td>http://en.wikipedia.org/wiki/Nick_Heidfeld</td>\n",
       "    </tr>\n",
       "    <tr>\n",
       "      <th>2</th>\n",
       "      <td>3</td>\n",
       "      <td>rosberg</td>\n",
       "      <td>6</td>\n",
       "      <td>ROS</td>\n",
       "      <td>Nico</td>\n",
       "      <td>Rosberg</td>\n",
       "      <td>1985-06-27</td>\n",
       "      <td>German</td>\n",
       "      <td>http://en.wikipedia.org/wiki/Nico_Rosberg</td>\n",
       "    </tr>\n",
       "    <tr>\n",
       "      <th>3</th>\n",
       "      <td>4</td>\n",
       "      <td>alonso</td>\n",
       "      <td>14</td>\n",
       "      <td>ALO</td>\n",
       "      <td>Fernando</td>\n",
       "      <td>Alonso</td>\n",
       "      <td>1981-07-29</td>\n",
       "      <td>Spanish</td>\n",
       "      <td>http://en.wikipedia.org/wiki/Fernando_Alonso</td>\n",
       "    </tr>\n",
       "    <tr>\n",
       "      <th>4</th>\n",
       "      <td>5</td>\n",
       "      <td>kovalainen</td>\n",
       "      <td>\\N</td>\n",
       "      <td>KOV</td>\n",
       "      <td>Heikki</td>\n",
       "      <td>Kovalainen</td>\n",
       "      <td>1981-10-19</td>\n",
       "      <td>Finnish</td>\n",
       "      <td>http://en.wikipedia.org/wiki/Heikki_Kovalainen</td>\n",
       "    </tr>\n",
       "  </tbody>\n",
       "</table>\n",
       "</div>"
      ],
      "text/plain": [
       "   driverId   driverRef number code  forename     surname         dob  \\\n",
       "0         1    hamilton     44  HAM     Lewis    Hamilton  1985-01-07   \n",
       "1         2    heidfeld     \\N  HEI      Nick    Heidfeld  1977-05-10   \n",
       "2         3     rosberg      6  ROS      Nico     Rosberg  1985-06-27   \n",
       "3         4      alonso     14  ALO  Fernando      Alonso  1981-07-29   \n",
       "4         5  kovalainen     \\N  KOV    Heikki  Kovalainen  1981-10-19   \n",
       "\n",
       "  nationality                                             url  \n",
       "0     British     http://en.wikipedia.org/wiki/Lewis_Hamilton  \n",
       "1      German      http://en.wikipedia.org/wiki/Nick_Heidfeld  \n",
       "2      German       http://en.wikipedia.org/wiki/Nico_Rosberg  \n",
       "3     Spanish    http://en.wikipedia.org/wiki/Fernando_Alonso  \n",
       "4     Finnish  http://en.wikipedia.org/wiki/Heikki_Kovalainen  "
      ]
     },
     "execution_count": 761,
     "metadata": {},
     "output_type": "execute_result"
    }
   ],
   "source": [
    "drivers.info()\n",
    "drivers.head()"
   ]
  },
  {
   "cell_type": "code",
   "execution_count": 762,
   "metadata": {},
   "outputs": [
    {
     "name": "stdout",
     "output_type": "stream",
     "text": [
      "<class 'pandas.core.frame.DataFrame'>\n",
      "RangeIndex: 34595 entries, 0 to 34594\n",
      "Data columns (total 7 columns):\n",
      " #   Column             Non-Null Count  Dtype  \n",
      "---  ------             --------------  -----  \n",
      " 0   driverStandingsId  34595 non-null  int64  \n",
      " 1   raceId             34595 non-null  int64  \n",
      " 2   driverId           34595 non-null  int64  \n",
      " 3   points             34595 non-null  float64\n",
      " 4   position           34595 non-null  int64  \n",
      " 5   positionText       34595 non-null  object \n",
      " 6   wins               34595 non-null  int64  \n",
      "dtypes: float64(1), int64(5), object(1)\n",
      "memory usage: 1.8+ MB\n"
     ]
    },
    {
     "data": {
      "text/html": [
       "<div>\n",
       "<style scoped>\n",
       "    .dataframe tbody tr th:only-of-type {\n",
       "        vertical-align: middle;\n",
       "    }\n",
       "\n",
       "    .dataframe tbody tr th {\n",
       "        vertical-align: top;\n",
       "    }\n",
       "\n",
       "    .dataframe thead th {\n",
       "        text-align: right;\n",
       "    }\n",
       "</style>\n",
       "<table border=\"1\" class=\"dataframe\">\n",
       "  <thead>\n",
       "    <tr style=\"text-align: right;\">\n",
       "      <th></th>\n",
       "      <th>driverStandingsId</th>\n",
       "      <th>raceId</th>\n",
       "      <th>driverId</th>\n",
       "      <th>points</th>\n",
       "      <th>position</th>\n",
       "      <th>positionText</th>\n",
       "      <th>wins</th>\n",
       "    </tr>\n",
       "  </thead>\n",
       "  <tbody>\n",
       "    <tr>\n",
       "      <th>0</th>\n",
       "      <td>1</td>\n",
       "      <td>18</td>\n",
       "      <td>1</td>\n",
       "      <td>10.0</td>\n",
       "      <td>1</td>\n",
       "      <td>1</td>\n",
       "      <td>1</td>\n",
       "    </tr>\n",
       "    <tr>\n",
       "      <th>1</th>\n",
       "      <td>2</td>\n",
       "      <td>18</td>\n",
       "      <td>2</td>\n",
       "      <td>8.0</td>\n",
       "      <td>2</td>\n",
       "      <td>2</td>\n",
       "      <td>0</td>\n",
       "    </tr>\n",
       "    <tr>\n",
       "      <th>2</th>\n",
       "      <td>3</td>\n",
       "      <td>18</td>\n",
       "      <td>3</td>\n",
       "      <td>6.0</td>\n",
       "      <td>3</td>\n",
       "      <td>3</td>\n",
       "      <td>0</td>\n",
       "    </tr>\n",
       "    <tr>\n",
       "      <th>3</th>\n",
       "      <td>4</td>\n",
       "      <td>18</td>\n",
       "      <td>4</td>\n",
       "      <td>5.0</td>\n",
       "      <td>4</td>\n",
       "      <td>4</td>\n",
       "      <td>0</td>\n",
       "    </tr>\n",
       "    <tr>\n",
       "      <th>4</th>\n",
       "      <td>5</td>\n",
       "      <td>18</td>\n",
       "      <td>5</td>\n",
       "      <td>4.0</td>\n",
       "      <td>5</td>\n",
       "      <td>5</td>\n",
       "      <td>0</td>\n",
       "    </tr>\n",
       "  </tbody>\n",
       "</table>\n",
       "</div>"
      ],
      "text/plain": [
       "   driverStandingsId  raceId  driverId  points  position positionText  wins\n",
       "0                  1      18         1    10.0         1            1     1\n",
       "1                  2      18         2     8.0         2            2     0\n",
       "2                  3      18         3     6.0         3            3     0\n",
       "3                  4      18         4     5.0         4            4     0\n",
       "4                  5      18         5     4.0         5            5     0"
      ]
     },
     "execution_count": 762,
     "metadata": {},
     "output_type": "execute_result"
    }
   ],
   "source": [
    "driver_standings.info()\n",
    "driver_standings.head()"
   ]
  },
  {
   "cell_type": "markdown",
   "metadata": {},
   "source": [
    "Just from this info, we can see that the data is very clean. Because the non-null counts match the number of entries, we can right tell that there are no missing values. We can count the number of null cells in each column separately too, just to make sure. "
   ]
  },
  {
   "cell_type": "code",
   "execution_count": 763,
   "metadata": {},
   "outputs": [
    {
     "data": {
      "text/plain": [
       "driverId       0\n",
       "driverRef      0\n",
       "number         0\n",
       "code           0\n",
       "forename       0\n",
       "surname        0\n",
       "dob            0\n",
       "nationality    0\n",
       "url            0\n",
       "dtype: int64"
      ]
     },
     "execution_count": 763,
     "metadata": {},
     "output_type": "execute_result"
    }
   ],
   "source": [
    "drivers.isna().sum()"
   ]
  },
  {
   "cell_type": "code",
   "execution_count": 764,
   "metadata": {},
   "outputs": [
    {
     "data": {
      "text/plain": [
       "driverStandingsId    0\n",
       "raceId               0\n",
       "driverId             0\n",
       "points               0\n",
       "position             0\n",
       "positionText         0\n",
       "wins                 0\n",
       "dtype: int64"
      ]
     },
     "execution_count": 764,
     "metadata": {},
     "output_type": "execute_result"
    }
   ],
   "source": [
    "driver_standings.isna().sum()"
   ]
  },
  {
   "cell_type": "markdown",
   "metadata": {},
   "source": [
    "Ok now let's try to find the career wins for each driver in the dataset."
   ]
  },
  {
   "cell_type": "code",
   "execution_count": 765,
   "metadata": {},
   "outputs": [
    {
     "data": {
      "text/html": [
       "<div>\n",
       "<style scoped>\n",
       "    .dataframe tbody tr th:only-of-type {\n",
       "        vertical-align: middle;\n",
       "    }\n",
       "\n",
       "    .dataframe tbody tr th {\n",
       "        vertical-align: top;\n",
       "    }\n",
       "\n",
       "    .dataframe thead th {\n",
       "        text-align: right;\n",
       "    }\n",
       "</style>\n",
       "<table border=\"1\" class=\"dataframe\">\n",
       "  <thead>\n",
       "    <tr style=\"text-align: right;\">\n",
       "      <th></th>\n",
       "      <th>driverId</th>\n",
       "      <th>wins</th>\n",
       "    </tr>\n",
       "  </thead>\n",
       "  <tbody>\n",
       "    <tr>\n",
       "      <th>0</th>\n",
       "      <td>1.0</td>\n",
       "      <td>103.0</td>\n",
       "    </tr>\n",
       "    <tr>\n",
       "      <th>28</th>\n",
       "      <td>30.0</td>\n",
       "      <td>91.0</td>\n",
       "    </tr>\n",
       "    <tr>\n",
       "      <th>821</th>\n",
       "      <td>830.0</td>\n",
       "      <td>54.0</td>\n",
       "    </tr>\n",
       "    <tr>\n",
       "      <th>19</th>\n",
       "      <td>20.0</td>\n",
       "      <td>53.0</td>\n",
       "    </tr>\n",
       "    <tr>\n",
       "      <th>113</th>\n",
       "      <td>117.0</td>\n",
       "      <td>51.0</td>\n",
       "    </tr>\n",
       "  </tbody>\n",
       "</table>\n",
       "</div>"
      ],
      "text/plain": [
       "     driverId   wins\n",
       "0         1.0  103.0\n",
       "28       30.0   91.0\n",
       "821     830.0   54.0\n",
       "19       20.0   53.0\n",
       "113     117.0   51.0"
      ]
     },
     "execution_count": 765,
     "metadata": {},
     "output_type": "execute_result"
    }
   ],
   "source": [
    "final_race_of_season = races.loc[races.groupby('year')['round'].idxmax(), ['raceId','year']]\n",
    "career_wins = final_race_of_season.merge(driver_standings, on='raceId', how='left').groupby('driverId')['wins'].sum().reset_index()\n",
    "career_wins = career_wins.sort_values(by='wins', ascending=False)\n",
    "career_wins.head()"
   ]
  },
  {
   "cell_type": "markdown",
   "metadata": {},
   "source": [
    "Now let's look at how the career wins for each driver are distributed"
   ]
  },
  {
   "cell_type": "code",
   "execution_count": 766,
   "metadata": {},
   "outputs": [
    {
     "data": {
      "text/plain": [
       "count    851.000000\n",
       "mean       1.297297\n",
       "std        6.695194\n",
       "min        0.000000\n",
       "25%        0.000000\n",
       "50%        0.000000\n",
       "75%        0.000000\n",
       "max      103.000000\n",
       "Name: wins, dtype: float64"
      ]
     },
     "execution_count": 766,
     "metadata": {},
     "output_type": "execute_result"
    }
   ],
   "source": [
    "career_wins['wins'].describe()"
   ]
  },
  {
   "cell_type": "code",
   "execution_count": 767,
   "metadata": {},
   "outputs": [
    {
     "data": {
      "text/plain": [
       "<Axes: xlabel='wins', ylabel='Count'>"
      ]
     },
     "execution_count": 767,
     "metadata": {},
     "output_type": "execute_result"
    },
    {
     "data": {
      "image/png": "[encoded data removed]",
      "text/plain": [
       "<Figure size 640x480 with 1 Axes>"
      ]
     },
     "metadata": {},
     "output_type": "display_data"
    }
   ],
   "source": [
    "sns.histplot(career_wins['wins'], color='skyblue', bins=100)"
   ]
  },
  {
   "cell_type": "markdown",
   "metadata": {},
   "source": [
    "The distribution of career wins is clearly very skewed to the right. The vast majority of drivers have less than 50 wins in their entire careers with only a handful of drivers exceeding 200 wins.\n",
    "\n",
    "I think the majority of drivers will have zero wins in their careers, let's see if this is true. Maybe we will find some new insights if we drop the zero win drivers."
   ]
  },
  {
   "cell_type": "code",
   "execution_count": 768,
   "metadata": {},
   "outputs": [
    {
     "name": "stdout",
     "output_type": "stream",
     "text": [
      "driverId    86.721504\n",
      "dtype: float64\n"
     ]
    }
   ],
   "source": [
    "drivers_zero_wins_percent = career_wins[career_wins['wins'] == 0][['driverId']].count() / career_wins.shape[0]\n",
    "print(drivers_zero_wins_percent * 100)\n"
   ]
  },
  {
   "cell_type": "markdown",
   "metadata": {},
   "source": [
    "Now we know that 86.6% of F1 drivers since 1950 never won a race. Many drivers drove uncompetitive cars their entire careers and never won a race as a result. Let's see what the career wins distribution looks like if we drop the drivers that never won a race. I expect it will still be extremely right-skewed, but less dramatically so.   "
   ]
  },
  {
   "cell_type": "code",
   "execution_count": 769,
   "metadata": {},
   "outputs": [
    {
     "name": "stdout",
     "output_type": "stream",
     "text": [
      "         driverId        wins\n",
      "count  113.000000  113.000000\n",
      "mean   317.716814    9.769912\n",
      "std    253.274536   16.021196\n",
      "min      1.000000    1.000000\n",
      "25%    105.000000    1.000000\n",
      "50%    250.000000    4.000000\n",
      "75%    479.000000   11.000000\n",
      "max    847.000000  103.000000\n"
     ]
    },
    {
     "data": {
      "text/plain": [
       "<Axes: xlabel='wins', ylabel='Count'>"
      ]
     },
     "execution_count": 769,
     "metadata": {},
     "output_type": "execute_result"
    },
    {
     "data": {
      "image/png": "[encoded data removed]",
      "text/plain": [
       "<Figure size 640x480 with 1 Axes>"
      ]
     },
     "metadata": {},
     "output_type": "display_data"
    }
   ],
   "source": [
    "career_stats_winners = career_wins[career_wins['wins'] != 0]\n",
    "print(career_stats_winners.describe())\n",
    "sns.histplot(career_stats_winners['wins'], color='skyblue', bins=100)\n"
   ]
  },
  {
   "cell_type": "markdown",
   "metadata": {},
   "source": [
    "As predicted, the plot is still extremely right-skewed with a majority of drivers only winning a handful of races and a tiny minority winning more than 200 races. However, this plot does not give us a full picture of how successful each driver was as it does not take into consideration the total number of races the driver participated in. Let's calculate and visualize each driver's win rate."
   ]
  },
  {
   "cell_type": "code",
   "execution_count": 770,
   "metadata": {},
   "outputs": [
    {
     "data": {
      "text/html": [
       "<div>\n",
       "<style scoped>\n",
       "    .dataframe tbody tr th:only-of-type {\n",
       "        vertical-align: middle;\n",
       "    }\n",
       "\n",
       "    .dataframe tbody tr th {\n",
       "        vertical-align: top;\n",
       "    }\n",
       "\n",
       "    .dataframe thead th {\n",
       "        text-align: right;\n",
       "    }\n",
       "</style>\n",
       "<table border=\"1\" class=\"dataframe\">\n",
       "  <thead>\n",
       "    <tr style=\"text-align: right;\">\n",
       "      <th></th>\n",
       "      <th>driverId</th>\n",
       "      <th>wins</th>\n",
       "      <th>race_starts</th>\n",
       "      <th>win_rate</th>\n",
       "      <th>driverRef</th>\n",
       "      <th>number</th>\n",
       "      <th>code</th>\n",
       "      <th>forename</th>\n",
       "      <th>surname</th>\n",
       "      <th>dob</th>\n",
       "      <th>nationality</th>\n",
       "      <th>url</th>\n",
       "    </tr>\n",
       "  </thead>\n",
       "  <tbody>\n",
       "    <tr>\n",
       "      <th>0</th>\n",
       "      <td>766.0</td>\n",
       "      <td>1.0</td>\n",
       "      <td>2</td>\n",
       "      <td>0.5000</td>\n",
       "      <td>wallard</td>\n",
       "      <td>\\N</td>\n",
       "      <td>\\N</td>\n",
       "      <td>Lee</td>\n",
       "      <td>Wallard</td>\n",
       "      <td>1910-09-07</td>\n",
       "      <td>American</td>\n",
       "      <td>http://en.wikipedia.org/wiki/Lee_Wallard</td>\n",
       "    </tr>\n",
       "    <tr>\n",
       "      <th>1</th>\n",
       "      <td>579.0</td>\n",
       "      <td>24.0</td>\n",
       "      <td>58</td>\n",
       "      <td>0.4138</td>\n",
       "      <td>fangio</td>\n",
       "      <td>\\N</td>\n",
       "      <td>\\N</td>\n",
       "      <td>Juan</td>\n",
       "      <td>Fangio</td>\n",
       "      <td>1911-06-24</td>\n",
       "      <td>Argentine</td>\n",
       "      <td>http://en.wikipedia.org/wiki/Juan_Manuel_Fangio</td>\n",
       "    </tr>\n",
       "    <tr>\n",
       "      <th>2</th>\n",
       "      <td>657.0</td>\n",
       "      <td>2.0</td>\n",
       "      <td>5</td>\n",
       "      <td>0.4000</td>\n",
       "      <td>vukovich</td>\n",
       "      <td>\\N</td>\n",
       "      <td>\\N</td>\n",
       "      <td>Bill</td>\n",
       "      <td>Vukovich</td>\n",
       "      <td>1918-12-13</td>\n",
       "      <td>American</td>\n",
       "      <td>http://en.wikipedia.org/wiki/Bill_Vukovich</td>\n",
       "    </tr>\n",
       "    <tr>\n",
       "      <th>3</th>\n",
       "      <td>647.0</td>\n",
       "      <td>13.0</td>\n",
       "      <td>36</td>\n",
       "      <td>0.3611</td>\n",
       "      <td>ascari</td>\n",
       "      <td>\\N</td>\n",
       "      <td>\\N</td>\n",
       "      <td>Alberto</td>\n",
       "      <td>Ascari</td>\n",
       "      <td>1918-07-13</td>\n",
       "      <td>Italian</td>\n",
       "      <td>http://en.wikipedia.org/wiki/Alberto_Ascari</td>\n",
       "    </tr>\n",
       "    <tr>\n",
       "      <th>4</th>\n",
       "      <td>373.0</td>\n",
       "      <td>25.0</td>\n",
       "      <td>73</td>\n",
       "      <td>0.3425</td>\n",
       "      <td>clark</td>\n",
       "      <td>\\N</td>\n",
       "      <td>\\N</td>\n",
       "      <td>Jim</td>\n",
       "      <td>Clark</td>\n",
       "      <td>1936-03-04</td>\n",
       "      <td>British</td>\n",
       "      <td>http://en.wikipedia.org/wiki/Jim_Clark</td>\n",
       "    </tr>\n",
       "  </tbody>\n",
       "</table>\n",
       "</div>"
      ],
      "text/plain": [
       "   driverId  wins  race_starts  win_rate driverRef number code forename  \\\n",
       "0     766.0   1.0            2    0.5000   wallard     \\N   \\N      Lee   \n",
       "1     579.0  24.0           58    0.4138    fangio     \\N   \\N     Juan   \n",
       "2     657.0   2.0            5    0.4000  vukovich     \\N   \\N     Bill   \n",
       "3     647.0  13.0           36    0.3611    ascari     \\N   \\N  Alberto   \n",
       "4     373.0  25.0           73    0.3425     clark     \\N   \\N      Jim   \n",
       "\n",
       "    surname         dob nationality  \\\n",
       "0   Wallard  1910-09-07    American   \n",
       "1    Fangio  1911-06-24   Argentine   \n",
       "2  Vukovich  1918-12-13    American   \n",
       "3    Ascari  1918-07-13     Italian   \n",
       "4     Clark  1936-03-04     British   \n",
       "\n",
       "                                               url  \n",
       "0         http://en.wikipedia.org/wiki/Lee_Wallard  \n",
       "1  http://en.wikipedia.org/wiki/Juan_Manuel_Fangio  \n",
       "2       http://en.wikipedia.org/wiki/Bill_Vukovich  \n",
       "3      http://en.wikipedia.org/wiki/Alberto_Ascari  \n",
       "4           http://en.wikipedia.org/wiki/Jim_Clark  "
      ]
     },
     "execution_count": 770,
     "metadata": {},
     "output_type": "execute_result"
    }
   ],
   "source": [
    "career_race_starts = results.groupby('driverId')['raceId'].count().reset_index(name='career_race_starts')\n",
    "career_race_starts = career_race_starts.sort_values(by='career_race_starts', ascending=False)\n",
    "\n",
    "career_wins = career_wins.merge(career_race_starts, on='driverId', how='left').rename(columns={'career_race_starts':'race_starts'})\n",
    "career_wins['win_rate'] = round((career_wins['wins'] / career_wins['race_starts']), 4)\n",
    "career_wins.sort_values(by='win_rate', ascending=False, inplace=True)\n",
    "career_wins = career_wins.merge(drivers, how='left', on='driverId')\n",
    "\n",
    "career_wins.head()"
   ]
  },
  {
   "cell_type": "markdown",
   "metadata": {},
   "source": [
    "We now have wins, race_starts, and win_rate calculated for each driver. There are some clear outliers, though. The driver with the highest win rate of all time, for example, only started two races and won one of them. Despite having a 50% win rate on paper, I don't think this qualifies Lee Ward as the greatest driver of all time. Let's plot the top 30 drivers by win rate, ignoring drivers with less than 20 race starts."
   ]
  },
  {
   "cell_type": "code",
   "execution_count": 771,
   "metadata": {},
   "outputs": [
    {
     "data": {
      "text/html": [
       "<div>\n",
       "<style scoped>\n",
       "    .dataframe tbody tr th:only-of-type {\n",
       "        vertical-align: middle;\n",
       "    }\n",
       "\n",
       "    .dataframe tbody tr th {\n",
       "        vertical-align: top;\n",
       "    }\n",
       "\n",
       "    .dataframe thead th {\n",
       "        text-align: right;\n",
       "    }\n",
       "</style>\n",
       "<table border=\"1\" class=\"dataframe\">\n",
       "  <thead>\n",
       "    <tr style=\"text-align: right;\">\n",
       "      <th></th>\n",
       "      <th>driverId</th>\n",
       "      <th>wins</th>\n",
       "      <th>race_starts</th>\n",
       "      <th>win_rate</th>\n",
       "      <th>driverRef</th>\n",
       "      <th>number</th>\n",
       "      <th>code</th>\n",
       "      <th>forename</th>\n",
       "      <th>surname</th>\n",
       "      <th>dob</th>\n",
       "      <th>nationality</th>\n",
       "      <th>url</th>\n",
       "    </tr>\n",
       "  </thead>\n",
       "  <tbody>\n",
       "    <tr>\n",
       "      <th>1</th>\n",
       "      <td>579.0</td>\n",
       "      <td>24.0</td>\n",
       "      <td>58</td>\n",
       "      <td>0.4138</td>\n",
       "      <td>fangio</td>\n",
       "      <td>\\N</td>\n",
       "      <td>\\N</td>\n",
       "      <td>Juan</td>\n",
       "      <td>Fangio</td>\n",
       "      <td>1911-06-24</td>\n",
       "      <td>Argentine</td>\n",
       "      <td>http://en.wikipedia.org/wiki/Juan_Manuel_Fangio</td>\n",
       "    </tr>\n",
       "    <tr>\n",
       "      <th>3</th>\n",
       "      <td>647.0</td>\n",
       "      <td>13.0</td>\n",
       "      <td>36</td>\n",
       "      <td>0.3611</td>\n",
       "      <td>ascari</td>\n",
       "      <td>\\N</td>\n",
       "      <td>\\N</td>\n",
       "      <td>Alberto</td>\n",
       "      <td>Ascari</td>\n",
       "      <td>1918-07-13</td>\n",
       "      <td>Italian</td>\n",
       "      <td>http://en.wikipedia.org/wiki/Alberto_Ascari</td>\n",
       "    </tr>\n",
       "    <tr>\n",
       "      <th>4</th>\n",
       "      <td>373.0</td>\n",
       "      <td>25.0</td>\n",
       "      <td>73</td>\n",
       "      <td>0.3425</td>\n",
       "      <td>clark</td>\n",
       "      <td>\\N</td>\n",
       "      <td>\\N</td>\n",
       "      <td>Jim</td>\n",
       "      <td>Clark</td>\n",
       "      <td>1936-03-04</td>\n",
       "      <td>British</td>\n",
       "      <td>http://en.wikipedia.org/wiki/Jim_Clark</td>\n",
       "    </tr>\n",
       "    <tr>\n",
       "      <th>5</th>\n",
       "      <td>1.0</td>\n",
       "      <td>103.0</td>\n",
       "      <td>344</td>\n",
       "      <td>0.2994</td>\n",
       "      <td>hamilton</td>\n",
       "      <td>44</td>\n",
       "      <td>HAM</td>\n",
       "      <td>Lewis</td>\n",
       "      <td>Hamilton</td>\n",
       "      <td>1985-01-07</td>\n",
       "      <td>British</td>\n",
       "      <td>http://en.wikipedia.org/wiki/Lewis_Hamilton</td>\n",
       "    </tr>\n",
       "    <tr>\n",
       "      <th>6</th>\n",
       "      <td>30.0</td>\n",
       "      <td>91.0</td>\n",
       "      <td>308</td>\n",
       "      <td>0.2955</td>\n",
       "      <td>michael_schumacher</td>\n",
       "      <td>\\N</td>\n",
       "      <td>MSC</td>\n",
       "      <td>Michael</td>\n",
       "      <td>Schumacher</td>\n",
       "      <td>1969-01-03</td>\n",
       "      <td>German</td>\n",
       "      <td>http://en.wikipedia.org/wiki/Michael_Schumacher</td>\n",
       "    </tr>\n",
       "  </tbody>\n",
       "</table>\n",
       "</div>"
      ],
      "text/plain": [
       "   driverId   wins  race_starts  win_rate           driverRef number code  \\\n",
       "1     579.0   24.0           58    0.4138              fangio     \\N   \\N   \n",
       "3     647.0   13.0           36    0.3611              ascari     \\N   \\N   \n",
       "4     373.0   25.0           73    0.3425               clark     \\N   \\N   \n",
       "5       1.0  103.0          344    0.2994            hamilton     44  HAM   \n",
       "6      30.0   91.0          308    0.2955  michael_schumacher     \\N  MSC   \n",
       "\n",
       "  forename     surname         dob nationality  \\\n",
       "1     Juan      Fangio  1911-06-24   Argentine   \n",
       "3  Alberto      Ascari  1918-07-13     Italian   \n",
       "4      Jim       Clark  1936-03-04     British   \n",
       "5    Lewis    Hamilton  1985-01-07     British   \n",
       "6  Michael  Schumacher  1969-01-03      German   \n",
       "\n",
       "                                               url  \n",
       "1  http://en.wikipedia.org/wiki/Juan_Manuel_Fangio  \n",
       "3      http://en.wikipedia.org/wiki/Alberto_Ascari  \n",
       "4           http://en.wikipedia.org/wiki/Jim_Clark  \n",
       "5      http://en.wikipedia.org/wiki/Lewis_Hamilton  \n",
       "6  http://en.wikipedia.org/wiki/Michael_Schumacher  "
      ]
     },
     "execution_count": 771,
     "metadata": {},
     "output_type": "execute_result"
    },
    {
     "data": {
      "image/png": "[encoded data removed]",
      "text/plain": [
       "<Figure size 1600x900 with 1 Axes>"
      ]
     },
     "metadata": {},
     "output_type": "display_data"
    }
   ],
   "source": [
    "# Only consider drivers with >20 race starts\n",
    "top_30 = career_wins[career_wins['race_starts'] > 20].head(30)\n",
    "\n",
    "plt.figure(figsize=(16, 9))\n",
    "bars = plt.barh(top_30['forename'] + \" \" + top_30['surname'], top_30['win_rate'], color='skyblue')\n",
    "plt.title('Top 30 Drivers by Win Rate')\n",
    "plt.xlabel('Win Rate')\n",
    "plt.ylabel('Driver')\n",
    "plt.grid(axis='x', linestyle='-', alpha=0.7)\n",
    "plt.gca().invert_yaxis()\n",
    "\n",
    "for bar, start_count in zip(bars, top_30['race_starts']):\n",
    "    plt.text(bar.get_width(), bar.get_y() + bar.get_height() / 2, \n",
    "             f\"{int(start_count)} starts\", ha='left', va='center', fontsize=9)\n",
    "\n",
    "\n",
    "top_30.head()"
   ]
  },
  {
   "cell_type": "markdown",
   "metadata": {},
   "source": [
    "This simple win rate calculation is by no means a comprehensive way to find the best 30 drivers in Formula One history, but many of the greatest names in the sport do in fact appear in this list."
   ]
  }
 ],
 "metadata": {
  "kernelspec": {
   "display_name": "Python 3",
   "language": "python",
   "name": "python3"
  },
  "language_info": {
   "codemirror_mode": {
    "name": "ipython",
    "version": 3
   },
   "file_extension": ".py",
   "mimetype": "text/x-python",
   "name": "python",
   "nbconvert_exporter": "python",
   "pygments_lexer": "ipython3",
   "version": "3.9.6"
  }
 },
 "nbformat": 4,
 "nbformat_minor": 2
}
